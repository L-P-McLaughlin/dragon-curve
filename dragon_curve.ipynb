{
 "cells": [
  {
   "cell_type": "code",
   "execution_count": 9,
   "id": "524d4f29-2f23-4fb9-b54f-7acce328188a",
   "metadata": {},
   "outputs": [],
   "source": [
    "import numpy as np\n",
    "import matplotlib.pyplot as plt"
   ]
  },
  {
   "cell_type": "code",
   "execution_count": 10,
   "id": "f1071073-2bad-4ebe-a939-ef8d569b60d7",
   "metadata": {},
   "outputs": [],
   "source": [
    "def rot(theta):\n",
    "    return np.array([[np.cos(theta), -np.sin(theta)],[np.sin(theta),np.cos(theta)]])"
   ]
  },
  {
   "cell_type": "code",
   "execution_count": 11,
   "id": "4bab93b2-979a-4ced-9a30-5322f5e9fb2d",
   "metadata": {},
   "outputs": [],
   "source": [
    "fourtyfive = rot(np.pi/2)"
   ]
  },
  {
   "cell_type": "code",
   "execution_count": 12,
   "id": "4b6fc8a0-da39-4345-9ee9-4709b6fcd783",
   "metadata": {},
   "outputs": [],
   "source": [
    "x = [0.0,1.0,1.0]\n",
    "y = [0.0,0.0,-1.0]\n",
    "start = np.array([x,y])"
   ]
  },
  {
   "cell_type": "code",
   "execution_count": 13,
   "id": "6007bc0f-04aa-4769-8eed-cefff5d35764",
   "metadata": {},
   "outputs": [
    {
     "data": {
      "text/plain": [
       "[<matplotlib.lines.Line2D at 0x7fd96c961070>]"
      ]
     },
     "execution_count": 13,
     "metadata": {},
     "output_type": "execute_result"
    },
    {
     "data": {
      "image/png": "[encoded data removed]",
      "text/plain": [
       "<Figure size 640x480 with 1 Axes>"
      ]
     },
     "metadata": {},
     "output_type": "display_data"
    }
   ],
   "source": [
    "plt.plot(x,y)\n"
   ]
  },
  {
   "cell_type": "code",
   "execution_count": null,
   "id": "ccd4f0ed-01e1-4e56-b337-95365c1fbf2d",
   "metadata": {},
   "outputs": [],
   "source": [
    "def step(g):\n",
    "    h = g\n",
    "    rotated = np.dot(fourtyfive,h)\n",
    "    for i in range(0,np.shape(rotated)[1]-1):\n",
    "        dif = rotated[:,::-1][:,i]-rotated[:,::-1][:,i+1]\n",
    "        inx = -dif[0]\n",
    "        iny = -dif[1]\n",
    "        invec = np.array([[inx+h[0,::-1][0]],[iny+h[1,::-1][0]]])\n",
    "        h = np.concatenate((h,invec),axis=1)\n",
    "    return h\n",
    "dragon = step(start)\n",
    "\n",
    "for i in range(0,16):\n",
    "    dragon=step(dragon)\n",
    "\n",
    "plt.plot(dragon[0,:],dragon[1,:],',',alpha=1)\n",
    "plt.axis('off')\n",
    "\n",
    "print(np.shape(dragon))"
   ]
  }
 ],
 "metadata": {
  "kernelspec": {
   "display_name": "default:Python",
   "language": "python",
   "name": "conda-env-default-py"
  },
  "language_info": {
   "codemirror_mode": {
    "name": "ipython",
    "version": 3
   },
   "file_extension": ".py",
   "mimetype": "text/x-python",
   "name": "python",
   "nbconvert_exporter": "python",
   "pygments_lexer": "ipython3",
   "version": "3.9.13"
  }
 },
 "nbformat": 4,
 "nbformat_minor": 5
}
